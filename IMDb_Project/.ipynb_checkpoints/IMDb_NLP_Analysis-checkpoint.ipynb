{
 "cells": [
  {
   "cell_type": "code",
   "execution_count": 34,
   "id": "530897e8",
   "metadata": {},
   "outputs": [],
   "source": [
    "import pyprind\n",
    "import pandas as pd\n",
    "import os\n",
    "import sys\n",
    "import numpy as np\n",
    "from sklearn.feature_extraction.text import CountVectorizer\n",
    "basepath='aclImdb'"
   ]
  },
  {
   "cell_type": "markdown",
   "id": "90c496d4",
   "metadata": {},
   "source": [
    "# Preprocessing"
   ]
  },
  {
   "cell_type": "code",
   "execution_count": 33,
   "id": "89e15e24",
   "metadata": {},
   "outputs": [
    {
     "name": "stdout",
     "output_type": "stream",
     "text": [
      "0% [###############               ] 100% | ETA: 00:00:23"
     ]
    }
   ],
   "source": [
    "#Put Review and Sentiment Label in a DF\n",
    "labels = {'pos':1,'neg':0}\n",
    "pbar = pyprind.ProgBar(100000,stream=sys.stdout)\n",
    "df = pd.DataFrame()\n",
    "for s in ('test','train'):\n",
    "    for l in ('pos','neg'):\n",
    "        path = os.path.join(basepath,s,l)\n",
    "        for file in sorted(os.listdir(path)):\n",
    "            with open(os.path.join(path,file),'r',encoding='utf-8') as infile:\n",
    "                txt = infile.read()\n",
    "                df = pd.concat([df, pd.DataFrame([txt,labels[l]]).transpose()], ignore_index=True)\n",
    "                pbar.update()\n",
    "df.columns = ['review','sentiment']"
   ]
  },
  {
   "cell_type": "code",
   "execution_count": 31,
   "id": "b87311c9",
   "metadata": {},
   "outputs": [],
   "source": [
    "#Permute the rows and save the csv\n",
    "np.random.seed(0)\n",
    "df = df.reindex(np.random.permutation(df.index))\n",
    "df.to_csv('movie_data.csv', index=False, encoding='utf-8')"
   ]
  },
  {
   "cell_type": "markdown",
   "id": "74260cf0",
   "metadata": {},
   "source": [
    "# Bag of Word Model"
   ]
  },
  {
   "cell_type": "code",
   "execution_count": 35,
   "id": "e0efba56",
   "metadata": {},
   "outputs": [],
   "source": [
    "#Assign unique token to each vocabulary. sparse feature vector\n",
    "count = CountVectorizer()\n",
    "docs = np.array(['roses are red','violets are blue'])\n",
    "bag = count.fit_transform(docs)"
   ]
  },
  {
   "cell_type": "code",
   "execution_count": 39,
   "id": "2b95a422",
   "metadata": {},
   "outputs": [
    {
     "name": "stdout",
     "output_type": "stream",
     "text": [
      "{'roses': 3, 'are': 0, 'red': 2, 'violets': 4, 'blue': 1}\n",
      "[[1 0 1 1 0]\n",
      " [1 1 0 0 1]]\n"
     ]
    }
   ],
   "source": [
    "print(count.vocabulary_)\n",
    "print(bag.toarray())\n",
    "#First row shows all the words that appear in the first prose"
   ]
  }
 ],
 "metadata": {
  "kernelspec": {
   "display_name": "Python 3 (ipykernel)",
   "language": "python",
   "name": "python3"
  },
  "language_info": {
   "codemirror_mode": {
    "name": "ipython",
    "version": 3
   },
   "file_extension": ".py",
   "mimetype": "text/x-python",
   "name": "python",
   "nbconvert_exporter": "python",
   "pygments_lexer": "ipython3",
   "version": "3.10.10"
  }
 },
 "nbformat": 4,
 "nbformat_minor": 5
}
