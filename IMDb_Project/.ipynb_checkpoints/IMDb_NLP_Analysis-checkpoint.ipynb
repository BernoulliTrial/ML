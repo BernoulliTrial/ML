{
 "cells": [
  {
   "cell_type": "markdown",
   "id": "cc84c0b4",
   "metadata": {},
   "source": [
    "# Sentiment Analysis on IMDB Rating\n",
    "Implemented using RNN"
   ]
  },
  {
   "cell_type": "code",
   "execution_count": 12,
   "id": "cec45dfa",
   "metadata": {},
   "outputs": [],
   "source": [
    "import torch\n",
    "import torch.nn as nn\n",
    "import torch.optim as optim\n",
    "import torchtext\n",
    "import numpy as np\n",
    "import matplotlib.pyplot as plt\n",
    "import datasets\n",
    "import re\n",
    "from collections import Counter, OrderedDict"
   ]
  },
  {
   "cell_type": "markdown",
   "id": "87c1181a",
   "metadata": {},
   "source": [
    "## Preprocessing"
   ]
  },
  {
   "cell_type": "code",
   "execution_count": 10,
   "id": "9c318352",
   "metadata": {},
   "outputs": [],
   "source": [
    "#Load test and train data\n",
    "train_data, test_data = datasets.load_dataset('imdb', split=['train','test'])\n",
    "\n",
    "#Split test data into train (20k) and validate (5k)\n",
    "from torch.utils.data.dataset import random_split\n",
    "torch.manual_seed(1)\n",
    "train_data, valid_data = random_split(list(train_data),[20000,5000])"
   ]
  },
  {
   "cell_type": "code",
   "execution_count": 23,
   "id": "b27bfc8b",
   "metadata": {},
   "outputs": [],
   "source": [
    "def tokenizer(text):\n",
    "    # Remove HTML tags\n",
    "    text = re.sub('<[^>]*>', '', text)\n",
    "    # Extract emoticons\n",
    "    emoticons = re.findall(r'(?::|;|=)(?:-)?(?:\\)|\\(|D|P)', text.lower())\n",
    "    # Eliminate excessive whitespace and convert text to lowercase\n",
    "    text = re.sub(r'[\\W]+', ' ', text.lower())\n",
    "    # Append emoticons at the end, removing the \"nose\" for standardization\n",
    "    text = text + ' ' + ' '.join(emoticons).replace('-', '')\n",
    "    #Split by white space\n",
    "    tokenized = text.split()\n",
    "    return tokenized"
   ]
  },
  {
   "cell_type": "code",
   "execution_count": 29,
   "id": "b4634ae3",
   "metadata": {},
   "outputs": [
    {
     "name": "stdout",
     "output_type": "stream",
     "text": [
      "number of tokens 69006\n"
     ]
    }
   ],
   "source": [
    "#How many unique tokens are in the text corpus?\n",
    "token_counts = Counter()\n",
    "for review in train_data:\n",
    "    text = review['text']\n",
    "    tokens = tokenizer(text)\n",
    "    token_counts.update(tokens)\n",
    "print('number of tokens', len(token_counts))"
   ]
  },
  {
   "cell_type": "code",
   "execution_count": 47,
   "id": "33c18b85",
   "metadata": {},
   "outputs": [
    {
     "name": "stdout",
     "output_type": "stream",
     "text": [
      "[11558, 26, 736]\n",
      "[11558, 26, 736, 2152]\n"
     ]
    }
   ],
   "source": [
    "#Map each token to a unique integer. In reverse frequency order. 0 and 1 placeholders\n",
    "#Sort counter in reverse frequency order\n",
    "sorted_dict = sorted(\n",
    "    token_counts.items(), key=lambda x:x[1], reverse=True\n",
    ")\n",
    "ordered_dict = OrderedDict(sorted_dict)\n",
    "\n",
    "#Word_encode contains word:encoding pairs\n",
    "word_encode = {}\n",
    "counter = 2\n",
    "for word, freq in ordered_dict.items():\n",
    "    word_encode[word] = counter\n",
    "    counter += 1\n",
    "\n",
    "#0 reserverd for padding. 1 reserved for unknown words\n",
    "word_encode['<pad>'] = 0\n",
    "word_encode['<unk>'] = 1\n",
    "\n",
    "#Demonstrate encoding scheme works\n",
    "def encode(text):\n",
    "    encoding = []\n",
    "    tokens = tokenizer(text)\n",
    "    for token in tokens:\n",
    "        encoding.append(word_encode.get(token,1))\n",
    "    return encoding\n",
    "\n",
    "#Testing\n",
    "print(encode(\"Roses are red\"))\n",
    "print(encode(\"roSes ARE reD :)\"))"
   ]
  },
  {
   "cell_type": "code",
   "execution_count": 81,
   "id": "aedcdf46",
   "metadata": {},
   "outputs": [],
   "source": [
    "def build_dataloader(batch):\n",
    "    label_list, text_list, lengths = [], [], []\n",
    "    for review in batch:\n",
    "        text = review['text']\n",
    "        label = review['label']\n",
    "        label_list.append(label)\n",
    "        processed_text = torch.tensor(encode(text), dtype=torch.int64)\n",
    "        text_list.append(processed_text)\n",
    "        lengths.append(processed_text.size(0))\n",
    "    label_list = torch.tensor(label_list)\n",
    "    lengths = torch.tensor(lengths)\n",
    "    #Ensure all sequence in minibatch have same length to store efficiently as tensor\n",
    "    padded_text_list = nn.utils.rnn.pad_sequence(text_list, batch_first=True)\n",
    "    return padded_text_list, label_list, lengths"
   ]
  },
  {
   "cell_type": "code",
   "execution_count": 82,
   "id": "45b51cdc",
   "metadata": {},
   "outputs": [],
   "source": [
    "#Load a small sample with batchsize of 4\n",
    "from torch.utils.data import DataLoader\n",
    "dataloader = DataLoader(train_data,batch_size=4,shuffle=False, collate_fn=build_dataloader)\n",
    "text_batch, label_batch, length_batch = next(iter(dataloader))"
   ]
  },
  {
   "cell_type": "code",
   "execution_count": 83,
   "id": "aad3ad19",
   "metadata": {},
   "outputs": [
    {
     "data": {
      "text/plain": [
       "tensor([[   35,  1739,     7,   449,   721,     6,   301,     4,   787,     9,\n",
       "             4,    18,    44,     2,  1705,  2460,   186,    25,     7,    24,\n",
       "           100,  1874,  1739,    25,     7, 34414,  3568,  1103,  7517,   787,\n",
       "             5,     2,  4991, 12401,    36,     7,   148,   111,   939,     6,\n",
       "         11598,     2,   172,   135,    62,    25,  3199,  1602,     3,   928,\n",
       "          1500,     9,     6,  4601,     2,   155,    36,    14,   274,     4,\n",
       "         42944,     9,  4991,     3,    14, 10296,    34,  3568,     8,    51,\n",
       "           148,    30,     2,    58,    16,    11,  1893,   125,     6,   420,\n",
       "          1214,    27, 14542,   940,    11,     7,    29,   951,    18,    17,\n",
       "         15994,   459,    34,  2480, 15211,  3713,     2,   840,  3200,     9,\n",
       "          3568,    13,   107,     9,   175,    94,    25,    51, 10297,  1796,\n",
       "            27,   712,    16,     2,   220,    17,     4,    54,   722,   238,\n",
       "           395,     2,   787,    32,    27,  5236,     3,    32,    27,  7252,\n",
       "          5118,  2461,  6390,     4,  2873,  1495,    15,     2,  1054,  2874,\n",
       "           155,     3,  7015,     7,   409,     9,    41,   220,    17,    41,\n",
       "           390,     3,  3925,   807,    37,    74,  2858,    15, 10297,   115,\n",
       "            31,   189,  3506,   667,   163,     0,     0,     0,     0,     0,\n",
       "             0,     0,     0,     0,     0,     0,     0,     0,     0,     0,\n",
       "             0,     0,     0,     0,     0,     0,     0,     0,     0,     0,\n",
       "             0,     0,     0,     0,     0,     0,     0,     0,     0,     0,\n",
       "             0,     0,     0,     0,     0,     0,     0,     0,     0,     0,\n",
       "             0,     0,     0,     0,     0,     0,     0,     0],\n",
       "        [  216,   175,   724,     5,    11,    18,    10,   226,   110,    14,\n",
       "           182,    78,     8,    13,    24,   182,    78,     8,    13,   166,\n",
       "           182,    50,   150,    24,    85,     2,  4031,  5936,   107,    96,\n",
       "            28,  1867,   602,    19,    52,   162,    21,  1698,     8,     6,\n",
       "          1181,   367,     2,   351,    10,   140,   419,     4,   333,     5,\n",
       "          6023,  7136,  5055,  1209, 10892,    32,   219,     9,     2,   405,\n",
       "          1413,    13,  4031,    13,  1099,     7,    85,    19,     2,    20,\n",
       "          1018,     4,    85,   565,    34,    24,   807,    55,     5,    68,\n",
       "           658,    10,   507,     8,     4,   668,     0,     0,     0,     0,\n",
       "             0,     0,     0,     0,     0,     0,     0,     0,     0,     0,\n",
       "             0,     0,     0,     0,     0,     0,     0,     0,     0,     0,\n",
       "             0,     0,     0,     0,     0,     0,     0,     0,     0,     0,\n",
       "             0,     0,     0,     0,     0,     0,     0,     0,     0,     0,\n",
       "             0,     0,     0,     0,     0,     0,     0,     0,     0,     0,\n",
       "             0,     0,     0,     0,     0,     0,     0,     0,     0,     0,\n",
       "             0,     0,     0,     0,     0,     0,     0,     0,     0,     0,\n",
       "             0,     0,     0,     0,     0,     0,     0,     0,     0,     0,\n",
       "             0,     0,     0,     0,     0,     0,     0,     0,     0,     0,\n",
       "             0,     0,     0,     0,     0,     0,     0,     0,     0,     0,\n",
       "             0,     0,     0,     0,     0,     0,     0,     0,     0,     0,\n",
       "             0,     0,     0,     0,     0,     0,     0,     0,     0,     0,\n",
       "             0,     0,     0,     0,     0,     0,     0,     0],\n",
       "        [   10,   121,    24,    28,    98,    74,   589,     9,   149,     2,\n",
       "          7372,  3030, 14543,  1012,   520,     2,   985,  2327,     5, 16847,\n",
       "          5479,    19,    25,    67,    76,  3478,    38,     2,  7372,     3,\n",
       "            25,    67,    76,  2951,    34,    35, 10893,   155,   449, 29495,\n",
       "         23725,    10,    67,     2,   554,    12, 14543,    67,    91,     4,\n",
       "            50,    20,    19,     8,    67,    24,  4228,     2,  2142,    37,\n",
       "            33,  3478,    87,     3,  2564,   160,   155,    11,   634,   126,\n",
       "            24,   158,    72,   286,    13,   373,     2,  4804,    19,     2,\n",
       "          7372,  6794,     6,    30,   128,    73,    48,    10,   886,     8,\n",
       "            13,    24,     4,    85,    20,    19,     8,    13,    35,   218,\n",
       "             3,   428,   710,     2,   107,   936,     7,    54,    72,   223,\n",
       "             3,    10,    96,   122,     2,   103,    54,    72,    82,     2,\n",
       "           658,   202,     2,   106,   293,   103,     7,  1193,     3,  3031,\n",
       "           708,  5760,     3,  2918,  3991,   706,  3327,   349,   148,   286,\n",
       "            13,   139,     6,     2,  1501,   750,    29,  1407,    62,    65,\n",
       "          2612,    71,    40,    14,     4,   547,     9,    62,     8,  7943,\n",
       "            71,    14,     2,  5687,     5,  4868,  3111,     6,   205,     2,\n",
       "            18,    55,  2075,     3,   403,    12,  3111,   231,    45,     5,\n",
       "           271,     3,    68,  1400,     7,  9774,   932,    10,   102,     2,\n",
       "            20,   143,    28,    76,    55,  3810,     9,  2723,     5,    12,\n",
       "            10,   379,     2,  7372,    15,     4,    50,   710,     8,    13,\n",
       "            24,   887,    32,    31,    19,     8,    13,   428],\n",
       "        [18924,     7,     4,  4753,  1669,    12,  3019,     6,     4, 13906,\n",
       "           502,    40,    25,    77,  1588,     9,   115,     6, 21713,     2,\n",
       "            90,   305,   237,     9,   502,    33,    77,   376,     4, 16848,\n",
       "           847,    62,    77,   131,     9,     2,  1580,   338,     5, 18924,\n",
       "            32,     2,  1980,    49,   157,   306, 21713,    46,   981,     6,\n",
       "         10298,     2, 18925,   125,     9,   502,     3,   453,     4,  1852,\n",
       "           630,   407,  3407,    34,   277,    29,   242,     2, 20200,     5,\n",
       "         18924,    77,    95,    41,  1833,     6,  2105,    56,     3,   495,\n",
       "           214,   528,     2,  3479,     2,   112,     7,   181,  1813,     3,\n",
       "           597,     5,     2,   156,   294,     4,   543,   173,     9,  1562,\n",
       "           289, 10039,     5,     2,    20,    26,   841,  1392,    62,   130,\n",
       "           111,    72,   832,    26,   181, 12402,    15,    69,   183,     6,\n",
       "            66,    55,   936,     5,     2,    63,     8,     7,    43,     4,\n",
       "            78, 23726, 15995,    13,    20,    17,   800,     5,   392,    59,\n",
       "          3992,     3,   371,   103,  2596,     0,     0,     0,     0,     0,\n",
       "             0,     0,     0,     0,     0,     0,     0,     0,     0,     0,\n",
       "             0,     0,     0,     0,     0,     0,     0,     0,     0,     0,\n",
       "             0,     0,     0,     0,     0,     0,     0,     0,     0,     0,\n",
       "             0,     0,     0,     0,     0,     0,     0,     0,     0,     0,\n",
       "             0,     0,     0,     0,     0,     0,     0,     0,     0,     0,\n",
       "             0,     0,     0,     0,     0,     0,     0,     0,     0,     0,\n",
       "             0,     0,     0,     0,     0,     0,     0,     0]])"
      ]
     },
     "execution_count": 83,
     "metadata": {},
     "output_type": "execute_result"
    }
   ],
   "source": [
    "text_batch"
   ]
  }
 ],
 "metadata": {
  "kernelspec": {
   "display_name": "Python 3 (ipykernel)",
   "language": "python",
   "name": "python3"
  },
  "language_info": {
   "codemirror_mode": {
    "name": "ipython",
    "version": 3
   },
   "file_extension": ".py",
   "mimetype": "text/x-python",
   "name": "python",
   "nbconvert_exporter": "python",
   "pygments_lexer": "ipython3",
   "version": "3.10.10"
  }
 },
 "nbformat": 4,
 "nbformat_minor": 5
}
